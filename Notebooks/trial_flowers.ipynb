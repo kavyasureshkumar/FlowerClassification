{
  "nbformat": 4,
  "nbformat_minor": 0,
  "metadata": {
    "colab": {
      "name": "trial_flowers.ipynb",
      "provenance": [],
      "collapsed_sections": []
    },
    "kernelspec": {
      "name": "python3",
      "display_name": "Python 3"
    },
    "language_info": {
      "name": "python"
    },
    "accelerator": "GPU"
  },
  "cells": [
    {
      "cell_type": "code",
      "metadata": {
        "id": "bzRJn9QTPg_D"
      },
      "source": [
        "import pandas as pd\n",
        "import numpy as np\n",
        "import matplotlib.pyplot as plt\n",
        "import seaborn as sns\n",
        "from sklearn.preprocessing import RobustScaler\n",
        "import os\n",
        "import cv2"
      ],
      "execution_count": null,
      "outputs": []
    },
    {
      "cell_type": "code",
      "metadata": {
        "colab": {
          "base_uri": "https://localhost:8080/"
        },
        "id": "PmNQjfNueLtz",
        "outputId": "4449ecf9-13e7-45ab-dee8-c4698971e229"
      },
      "source": [
        "from google.colab import drive\n",
        "drive.mount('/content/drive')"
      ],
      "execution_count": null,
      "outputs": [
        {
          "output_type": "stream",
          "name": "stdout",
          "text": [
            "Mounted at /content/drive\n"
          ]
        }
      ]
    },
    {
      "cell_type": "code",
      "metadata": {
        "id": "nGg6u2gBePUQ"
      },
      "source": [
        "!unzip \"/content/drive/My Drive/tmlc_images.zip\""
      ],
      "execution_count": null,
      "outputs": []
    },
    {
      "cell_type": "code",
      "metadata": {
        "id": "xrtOkXlS7QwE"
      },
      "source": [
        "import tensorflow as tf"
      ],
      "execution_count": null,
      "outputs": []
    },
    {
      "cell_type": "code",
      "metadata": {
        "id": "_rmz5MjVghrK",
        "colab": {
          "base_uri": "https://localhost:8080/"
        },
        "outputId": "fa18e79f-f964-4d50-9348-aa7b79d5291e"
      },
      "source": [
        "from tensorflow.keras.preprocessing.image import ImageDataGenerator\n",
        "\n",
        "# create a new generator\n",
        "datagen_train = ImageDataGenerator(rotation_range=45, width_shift_range=0.1,\n",
        "    height_shift_range=0.1, shear_range=0.2, zoom_range=0.2,\n",
        "    horizontal_flip=True, fill_mode=\"nearest\", rescale=1./255)\n",
        "datagen = ImageDataGenerator(rescale = 1./255)\n",
        "# load train data\n",
        "train_dir =  \"train\"\n",
        "# load validation data\n",
        "val_dir = \"val\"\n",
        "# load train data\n",
        "test_dir = \"test\"\n",
        "train = datagen_train.flow_from_directory(train_dir, target_size = (224,224),batch_size = 32, class_mode = 'categorical')\n",
        "val = datagen.flow_from_directory(val_dir, target_size = (224,224),batch_size = 32, class_mode = 'categorical')\n",
        "#test = datagen.flow_from_directory(train_dir, target_size = (100,100),batch_size = 100, class_mode = categorical)"
      ],
      "execution_count": null,
      "outputs": [
        {
          "output_type": "stream",
          "name": "stdout",
          "text": [
            "Found 12753 images belonging to 104 classes.\n",
            "Found 3712 images belonging to 104 classes.\n"
          ]
        }
      ]
    },
    {
      "cell_type": "markdown",
      "metadata": {
        "id": "puiNolTpTJLJ"
      },
      "source": [
        "## Xception model"
      ]
    },
    {
      "cell_type": "code",
      "metadata": {
        "id": "4utiKrb0ekB3"
      },
      "source": [
        "from tensorflow.keras.applications import Xception\n",
        "from tensorflow.keras.models import Sequential\n",
        "from tensorflow.keras.layers import Conv2D, MaxPool2D, Flatten, Dense, InputLayer, BatchNormalization, Dropout\n",
        "from tensorflow.keras import regularizers\n",
        "pre_trained_model = Xception(input_shape=(224,224,3), include_top=False, weights=\"imagenet\")\n",
        "#pre_trained_model.trainable = False\n",
        "\n",
        "for layer in pre_trained_model.layers[:21]:\n",
        "    layer.trainable = False\n",
        "model = Sequential([\n",
        "    pre_trained_model,\n",
        "    MaxPool2D((2,2) , strides = 2),\n",
        "    Flatten(),\n",
        "    #Dropout(0.2),\n",
        "    Dense(100, activation = 'relu'),\n",
        "    Dropout(0.25),\n",
        "    Dense(64, activation = 'relu'),\n",
        "    Dropout(0.3),\n",
        "    Dense(128, activation = 'relu'),#kernel_regularizer=regularizers.l2(0.01)),\n",
        "    Dropout(0.25),\n",
        "    Dense(104 , activation='softmax')])\n",
        "model.compile(optimizer = \"adam\" , loss = 'categorical_crossentropy' , metrics = ['accuracy'])"
      ],
      "execution_count": null,
      "outputs": []
    },
    {
      "cell_type": "code",
      "metadata": {
        "id": "ml33CklLJxVM"
      },
      "source": [
        "model.fit(train , epochs = 30 , validation_data = val)"
      ],
      "execution_count": null,
      "outputs": []
    },
    {
      "cell_type": "code",
      "metadata": {
        "id": "9QyXw16cggDz"
      },
      "source": [
        "model.save(\"flowers_79.h5\")"
      ],
      "execution_count": null,
      "outputs": []
    },
    {
      "cell_type": "code",
      "metadata": {
        "id": "YT-UWpRPb0X8"
      },
      "source": [
        "loss, acc = model.evaluate(val, verbose=0)"
      ],
      "execution_count": null,
      "outputs": []
    },
    {
      "cell_type": "code",
      "metadata": {
        "colab": {
          "base_uri": "https://localhost:8080/"
        },
        "id": "WLjCapLJdcS2",
        "outputId": "241da415-abb3-4e91-89ab-4ce339bb40b8"
      },
      "source": [
        "acc #accuracy of Xception model"
      ],
      "execution_count": null,
      "outputs": [
        {
          "output_type": "execute_result",
          "data": {
            "text/plain": [
              "0.798491358757019"
            ]
          },
          "metadata": {},
          "execution_count": 18
        }
      ]
    },
    {
      "cell_type": "markdown",
      "metadata": {
        "id": "Z7GIQw-USysI"
      },
      "source": [
        "## VGG-19 model"
      ]
    },
    {
      "cell_type": "code",
      "metadata": {
        "id": "pBESOIkvddcx"
      },
      "source": [
        "from tensorflow.keras.applications import VGG19\n",
        "from tensorflow.keras.models import Sequential\n",
        "from tensorflow.keras.layers import Conv2D, MaxPool2D, Flatten, Dense, InputLayer, BatchNormalization, Dropout\n",
        "from tensorflow.keras import regularizers\n",
        "pre_trained_model = VGG19(input_shape=(224,224,3), include_top=False, weights=\"imagenet\")\n",
        "#pre_trained_model.trainable = False\n",
        "\n",
        "for layer in pre_trained_model.layers[:19]:\n",
        "    layer.trainable = False\n",
        "model = Sequential([\n",
        "    pre_trained_model,\n",
        "    MaxPool2D((2,2) , strides = 2),\n",
        "    Flatten(),\n",
        "    Dense(64, activation = 'relu'),\n",
        "    Dropout(0.25),\n",
        "    Dense(128, activation = 'relu'),\n",
        "    Dropout(0.2),\n",
        "    Dense(104 , activation='softmax')])\n",
        "model.compile(optimizer = \"adam\" , loss = 'categorical_crossentropy' , metrics = ['accuracy'])"
      ],
      "execution_count": null,
      "outputs": []
    },
    {
      "cell_type": "code",
      "metadata": {
        "id": "6Rpepf737wbC"
      },
      "source": [
        " model.fit(train , epochs = 50 , validation_data = val)"
      ],
      "execution_count": null,
      "outputs": []
    },
    {
      "cell_type": "code",
      "metadata": {
        "id": "_GmbQk2PeRAZ"
      },
      "source": [
        "loss, acc = model.evaluate(val, verbose=0)"
      ],
      "execution_count": null,
      "outputs": []
    },
    {
      "cell_type": "code",
      "metadata": {
        "id": "lzqTZPrX7p-e",
        "colab": {
          "base_uri": "https://localhost:8080/"
        },
        "outputId": "bb9bd2bb-97d3-4591-bc99-043d31800b25"
      },
      "source": [
        "acc #accuracy of VGG-19 model"
      ],
      "execution_count": null,
      "outputs": [
        {
          "output_type": "execute_result",
          "data": {
            "text/plain": [
              "0.6896551847457886"
            ]
          },
          "metadata": {},
          "execution_count": 12
        }
      ]
    },
    {
      "cell_type": "code",
      "metadata": {
        "id": "IlgH0vLkSMQZ"
      },
      "source": [
        ""
      ],
      "execution_count": null,
      "outputs": []
    }
  ]
}